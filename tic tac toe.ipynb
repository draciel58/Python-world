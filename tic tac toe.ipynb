{
 "cells": [
  {
   "cell_type": "code",
   "execution_count": 1,
   "metadata": {},
   "outputs": [],
   "source": [
    "import random\n",
    "from IPython.display import clear_output\n",
    "def tic_tac_toe():\n",
    "    \n",
    "    print('welcome to tic tac toe')\n",
    "    \n",
    "    while True:\n",
    "        playing=True\n",
    "        board=[' ']*10\n",
    "        toss=input('player1 choose head or tail')\n",
    "        a=random.randint(0,1)\n",
    "        b={0:'head',1:'tail'}\n",
    "        c=b[a]\n",
    "        print(f'coin shows {c}')\n",
    "        if toss==c:\n",
    "            turn='player1'\n",
    "            print('player1 turn')\n",
    "        else:\n",
    "            turn='player2'\n",
    "            print('player2 turn')\n",
    "        choice=input('Do you want to start the game')\n",
    "        if choice=='yes':\n",
    "            while playing==True:\n",
    "                if turn=='player1':\n",
    "                    the_board=display_board(board)\n",
    "                    player1_marker='X'\n",
    "                    position=int(input('choose a position:(1-9)'))\n",
    "                    board[position]=player1_marker\n",
    "                    if win_check(player1_marker,position,board)==True:\n",
    "                        display_board(board)\n",
    "                        print('player 1 has won!!')\n",
    "                        playing=False\n",
    "                        break\n",
    "                    else:\n",
    "                        if full_board_check(board)==True:\n",
    "                            display_board(board)\n",
    "                            print('Tie game')\n",
    "                            playing=False\n",
    "                            break\n",
    "                        else:\n",
    "                            turn='player2'\n",
    "                \n",
    "              \n",
    "            \n",
    "                else:\n",
    "                    the_board=display_board(board)\n",
    "                    player2_marker='O'\n",
    "                    position=int(input('choose a position:(1-9)'))\n",
    "                    board[position]=player2_marker\n",
    "                    if win_check(player2_marker,position,board)==True:\n",
    "                        display_board(board)\n",
    "                        print('player 2 has won!!')\n",
    "                        playing=False\n",
    "                        break\n",
    "                    else:\n",
    "                        if full_board_check(board)==True:\n",
    "                            display_board(board)\n",
    "                            print('Tie game')\n",
    "                            playing=False\n",
    "                            break\n",
    "                        else:\n",
    "                            turn='player1'\n",
    "                       \n",
    "                 \n",
    "        if not replay():\n",
    "            print('game is over')\n",
    "            break\n",
    "        \n",
    "        \n",
    "                    \n",
    "                \n",
    "            \n",
    "            "
   ]
  },
  {
   "cell_type": "code",
   "execution_count": 2,
   "metadata": {},
   "outputs": [],
   "source": [
    "def win_check(marker,position,board):\n",
    "    \n",
    "    if ((board[1]==marker and board[2]==marker and board[3]==marker) or\n",
    "       (board[4]==marker and board[5]==marker and board[6]==marker) or\n",
    "       (board[7]==marker and board[8]==marker and board[9]==marker) or\n",
    "       (board[1]==marker and board[4]==marker and board[7]==marker) or\n",
    "       (board[2]==marker and board[5]==marker and board[8]==marker) or\n",
    "       (board[3]==marker and board[6]==marker and board[9]==marker) or\n",
    "       (board[1]==marker and board[5]==marker and board[9]==marker) or\n",
    "       (board[3]==marker and board[5]==marker and board[7]==marker)):\n",
    "            return True"
   ]
  },
  {
   "cell_type": "code",
   "execution_count": 3,
   "metadata": {},
   "outputs": [],
   "source": [
    "def display_board(board):  \n",
    "    clear_output()\n",
    "    print('   |  '+'   |  ')\n",
    "    print(board[1]+'  |  '+board[2]+'  |  '+board[3])\n",
    "    print('   |  '+'   |  ')\n",
    "    print('-------------')\n",
    "    print('   |  '+'   |  ')\n",
    "    print(board[4]+'  |  '+board[5]+'  |  '+board[6])\n",
    "    print('   |  '+'   |  ')\n",
    "    print('-------------')\n",
    "    print('   |  '+'   |  ')\n",
    "    print(board[7]+'  |  '+board[8]+'  |  '+board[9])\n",
    "    print('   |  '+'   |  ')"
   ]
  },
  {
   "cell_type": "code",
   "execution_count": 4,
   "metadata": {},
   "outputs": [],
   "source": [
    "def full_board_check(board):\n",
    "    if ((board[1]=='X' or board[1]=='O') and\n",
    "       (board[2]=='X' or board[2]=='O') and\n",
    "       (board[3]=='X' or board[3]=='O') and\n",
    "       (board[4]=='X' or board[4]=='O') and\n",
    "       (board[5]=='X' or board[5]=='O') and\n",
    "       (board[6]=='X' or board[6]=='O') and\n",
    "       (board[7]=='X' or board[7]=='O') and\n",
    "       (board[8]=='X' or board[8]=='O') and\n",
    "       (board[9]=='X' or board[9]=='O')): \n",
    "    \n",
    "        return True\n",
    "            \n",
    "        "
   ]
  },
  {
   "cell_type": "code",
   "execution_count": 5,
   "metadata": {},
   "outputs": [],
   "source": [
    "def replay():\n",
    "    choice=input('do you want to play again')\n",
    "    return choice=='yes'"
   ]
  },
  {
   "cell_type": "markdown",
   "metadata": {},
   "source": [
    "tic_tac_toe()"
   ]
  },
  {
   "cell_type": "code",
   "execution_count": 6,
   "metadata": {},
   "outputs": [],
   "source": [
    "def turn1():\n",
    "    clear_output()\n",
    "    print('player1 turn')"
   ]
  },
  {
   "cell_type": "code",
   "execution_count": 7,
   "metadata": {},
   "outputs": [],
   "source": [
    "z=[1,2,3,4]"
   ]
  },
  {
   "cell_type": "code",
   "execution_count": 8,
   "metadata": {},
   "outputs": [],
   "source": [
    "a=random.choice(z)"
   ]
  },
  {
   "cell_type": "code",
   "execution_count": 9,
   "metadata": {},
   "outputs": [
    {
     "data": {
      "text/plain": [
       "4"
      ]
     },
     "execution_count": 9,
     "metadata": {},
     "output_type": "execute_result"
    }
   ],
   "source": [
    "a"
   ]
  },
  {
   "cell_type": "code",
   "execution_count": 10,
   "metadata": {
    "scrolled": true
   },
   "outputs": [
    {
     "name": "stdout",
     "output_type": "stream",
     "text": [
      "   |     |  \n",
      "X  |  O  |  X\n",
      "   |     |  \n",
      "-------------\n",
      "   |     |  \n",
      "O  |  X  |  O\n",
      "   |     |  \n",
      "-------------\n",
      "   |     |  \n",
      "X  |     |   \n",
      "   |     |  \n",
      "player 1 has won!!\n",
      "do you want to play again8\n",
      "game is over\n"
     ]
    }
   ],
   "source": [
    "tic_tac_toe()"
   ]
  },
  {
   "cell_type": "markdown",
   "metadata": {},
   "source": [
    "k"
   ]
  }
 ],
 "metadata": {
  "kernelspec": {
   "display_name": "Python 3",
   "language": "python",
   "name": "python3"
  },
  "language_info": {
   "codemirror_mode": {
    "name": "ipython",
    "version": 3
   },
   "file_extension": ".py",
   "mimetype": "text/x-python",
   "name": "python",
   "nbconvert_exporter": "python",
   "pygments_lexer": "ipython3",
   "version": "3.8.0"
  }
 },
 "nbformat": 4,
 "nbformat_minor": 4
}
