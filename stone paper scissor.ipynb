{
 "cells": [
  {
   "cell_type": "code",
   "execution_count": 1,
   "metadata": {},
   "outputs": [],
   "source": [
    "from IPython.display import clear_output\n",
    "import random\n",
    "def handgame():\n",
    "    print('welcome to stone paper scissor')\n",
    "    while True:\n",
    "        player_points=0\n",
    "        computer_points=0\n",
    "        playing=True\n",
    "    \n",
    "        while playing==True:\n",
    "            a=random.randint(0,2)\n",
    "            b={0:'s',1:'p',2:'x'}\n",
    "            c=b[a]\n",
    "            choice=input('player 1 enter your move:')\n",
    "           \n",
    "            \n",
    "            if ((c=='p' and choice=='x') or\n",
    "                (c=='s' and choice=='p') or\n",
    "                (c=='x' and choice=='s')):\n",
    "                player_points+=1\n",
    "                play(player_points,computer_points)\n",
    "                print(f'computer shows {c}')\n",
    "                if player_points==5:\n",
    "                    play(player_points,computer_points)\n",
    "                    print('player has won!!')\n",
    "                    player_points=0\n",
    "                    computer_points=0\n",
    "                    playing=False\n",
    "                    break\n",
    "                elif computer_points==5:\n",
    "                    play(player_points,computer_points)\n",
    "                    print('computer has won!!')\n",
    "                    player_points=0\n",
    "                    computer_points=0\n",
    "                    playing=False\n",
    "                    break\n",
    "                else:\n",
    "                    continue\n",
    "            \n",
    "            elif c==choice:\n",
    "                play(player_points,computer_points)\n",
    "                print(f'computer shows {c}')\n",
    "                print('Same Move!!')\n",
    "            \n",
    "                continue\n",
    "            elif ((c=='x' and choice=='p') or\n",
    "                (c=='p' and choice=='s') or\n",
    "                (c=='s' and choice=='x')):\n",
    "                computer_points+=1\n",
    "                \n",
    "                play(player_points,computer_points)\n",
    "                print(f'computer shows {c}')\n",
    "                if player_points==5:\n",
    "                    play(player_points,computer_points)\n",
    "                    print('player has won!!')\n",
    "                    player_points=0\n",
    "                    computer_points=0\n",
    "                    playing=False\n",
    "                    break\n",
    "                elif computer_points==5:\n",
    "                    play(player_points,computer_points)\n",
    "                    print('computer has won!!')\n",
    "                    player_points=0\n",
    "                    computer_points=0\n",
    "                    playing=False\n",
    "                    break\n",
    "                else:\n",
    "                    continue\n",
    "             \n",
    "            else:\n",
    "                play(player_points,computer_points)\n",
    "                print('invalid move, try again')\n",
    "                continue\n",
    "           \n",
    "        if not replay():\n",
    "            print('game is over!!')\n",
    "            break\n",
    "            \n",
    "            "
   ]
  },
  {
   "cell_type": "code",
   "execution_count": 2,
   "metadata": {},
   "outputs": [],
   "source": [
    "def play(player_points,computer_points):\n",
    "    clear_output()\n",
    "    print(f'player points: {player_points}')\n",
    "    print(f'computer points: {computer_points}')"
   ]
  },
  {
   "cell_type": "code",
   "execution_count": null,
   "metadata": {},
   "outputs": [],
   "source": []
  },
  {
   "cell_type": "code",
   "execution_count": 3,
   "metadata": {},
   "outputs": [],
   "source": [
    "def replay():\n",
    "    l=input('Do you want to play again')\n",
    "    return l=='yes'"
   ]
  },
  {
   "cell_type": "code",
   "execution_count": null,
   "metadata": {},
   "outputs": [
    {
     "name": "stdout",
     "output_type": "stream",
     "text": [
      "welcome to stone paper scissor\n"
     ]
    }
   ],
   "source": [
    "handgame()"
   ]
  },
  {
   "cell_type": "code",
   "execution_count": null,
   "metadata": {},
   "outputs": [],
   "source": []
  },
  {
   "cell_type": "code",
   "execution_count": null,
   "metadata": {},
   "outputs": [],
   "source": []
  }
 ],
 "metadata": {
  "kernelspec": {
   "display_name": "Python 3",
   "language": "python",
   "name": "python3"
  },
  "language_info": {
   "codemirror_mode": {
    "name": "ipython",
    "version": 3
   },
   "file_extension": ".py",
   "mimetype": "text/x-python",
   "name": "python",
   "nbconvert_exporter": "python",
   "pygments_lexer": "ipython3",
   "version": "3.8.0"
  }
 },
 "nbformat": 4,
 "nbformat_minor": 4
}
