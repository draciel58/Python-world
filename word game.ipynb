{
 "cells": [
  {
   "cell_type": "code",
   "execution_count": 4,
   "metadata": {},
   "outputs": [],
   "source": [
    "def wordgame():\n",
    "    print('Welcome to the hangman')\n",
    "    while True:\n",
    "        ch=input('Do you want to start the game')\n",
    "        if ch=='yes':\n",
    "            letters=['a','b','c','d','e','f','g','h','i','j','k','l','m','n','o','p','q','r','s','t','u','v','w','x','y','z']\n",
    "            word=''\n",
    "            a=random.randint(5,20)\n",
    "            for i in range(0,a):\n",
    "                b=random.choice(letters)\n",
    "                word=word+b\n",
    "  \n",
    "            temp=word\n",
    "            q=''\n",
    "            wd=['-']*a\n",
    "            \n",
    "            for j in range(0,a):\n",
    "                q=q+wd[j]\n",
    "            \n",
    "                \n",
    "            chances=20\n",
    "            print(f'The hidden word is: {q}')\n",
    "            print(f'You have 20 chances to identify the word')\n",
    "            t=[]\n",
    "                \n",
    "            gaming=True\n",
    "            while gaming:\n",
    "                step=0\n",
    "                choice=input('Guess the letter')\n",
    "                for l in range(0,a):\n",
    "                    if choice==temp[l]:\n",
    "                        wd[l]=temp[l]\n",
    "                        w=''\n",
    "                        for i in range(0,a):\n",
    "                            w=w+wd[i]\n",
    "                        clear_output()\n",
    "                        print(w)\n",
    "                        print('You guessed the right letter')\n",
    "                        print(f'chances remaining {chances}')\n",
    "                        t.append(choice)\n",
    "                        print(f'Used letters are {t}')\n",
    "                        step+=1\n",
    "                        if w==temp:\n",
    "                            print('You won the game')\n",
    "                            print(temp)\n",
    "                            gaming=False\n",
    "                            return True\n",
    "                            break\n",
    "                        else:\n",
    "                            continue\n",
    "                        \n",
    "                   \n",
    "                    else:\n",
    "                        if l==a-1 and step==0:\n",
    "                            chances-=1\n",
    "                            w=''\n",
    "                            for i in range(0,a):\n",
    "                                w=w+wd[i]\n",
    "                            clear_output()    \n",
    "                            print(w)\n",
    "                            print('You guessed the wrong letter')\n",
    "                            print(f'chances remaining {chances}')\n",
    "                            t.append(choice)\n",
    "                            print(f'Used letters are {t}')\n",
    "                            if chances==0:\n",
    "                                clear_output()\n",
    "                                print('you lost the game')\n",
    "                                print(f'chances remaining {chances}')\n",
    "                                print(f'The correct word is {temp}')\n",
    "                                gaming=False\n",
    "                                return False\n",
    "                                break\n",
    "                            else:\n",
    "                                continue\n",
    "                        else:\n",
    "                            continue\n",
    "             \n",
    "        else:\n",
    "            print('Get lost')\n",
    "                            \n",
    "    \n",
    "                \n",
    "                \n",
    "                \n",
    "            "
   ]
  },
  {
   "cell_type": "code",
   "execution_count": 5,
   "metadata": {},
   "outputs": [],
   "source": [
    "import random \n",
    "from IPython.display import clear_output "
   ]
  },
  {
   "cell_type": "code",
   "execution_count": null,
   "metadata": {},
   "outputs": [],
   "source": []
  },
  {
   "cell_type": "code",
   "execution_count": null,
   "metadata": {},
   "outputs": [
    {
     "name": "stdout",
     "output_type": "stream",
     "text": [
      "---t-er---wt----\n",
      "You guessed the right letter\n",
      "chances remaining 19\n",
      "Used letters are ['q', 'w', 'e', 'r', 't', 't']\n"
     ]
    }
   ],
   "source": [
    "wordgame()"
   ]
  },
  {
   "cell_type": "code",
   "execution_count": null,
   "metadata": {},
   "outputs": [],
   "source": []
  },
  {
   "cell_type": "code",
   "execution_count": null,
   "metadata": {},
   "outputs": [],
   "source": []
  },
  {
   "cell_type": "code",
   "execution_count": null,
   "metadata": {},
   "outputs": [],
   "source": []
  }
 ],
 "metadata": {
  "kernelspec": {
   "display_name": "Python 3",
   "language": "python",
   "name": "python3"
  },
  "language_info": {
   "codemirror_mode": {
    "name": "ipython",
    "version": 3
   },
   "file_extension": ".py",
   "mimetype": "text/x-python",
   "name": "python",
   "nbconvert_exporter": "python",
   "pygments_lexer": "ipython3",
   "version": "3.8.0"
  }
 },
 "nbformat": 4,
 "nbformat_minor": 4
}
